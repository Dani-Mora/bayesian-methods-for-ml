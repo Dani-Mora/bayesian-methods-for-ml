{
 "cells": [
  {
   "cell_type": "markdown",
   "metadata": {},
   "source": [
    "# Bayesian methods for machine learning - Week 1"
   ]
  },
  {
   "cell_type": "code",
   "execution_count": 35,
   "metadata": {},
   "outputs": [],
   "source": [
    "import matplotlib.pyplot as plt\n",
    "from scipy.stats import (\n",
    "    gamma,\n",
    "    beta\n",
    ")\n",
    "import numpy as np"
   ]
  },
  {
   "cell_type": "markdown",
   "metadata": {},
   "source": [
    "## Bayesian inference problems for MAP\n",
    "\n",
    "Recall Bayes allows to get posterior:\n",
    "\n",
    "$$\n",
    "P(\\theta, X) = \\frac{P(X|\\theta)P(\\theta)}{P(X)}\n",
    "$$\n",
    "\n",
    "- $P(X|\\theta)$, likelihood, which is determined by the model.\n",
    "- $P(\\theta)$, prior, which depends on the distribution of our choice.\n",
    "- $P(X)$, evidence, which is determined by the data.\n",
    "\n",
    "In the next subsections, we are going to present several problems that MAP computation may arise."
   ]
  },
  {
   "cell_type": "markdown",
   "metadata": {},
   "source": [
    "### Unfeasible to compute evidence\n",
    "\n",
    "Usually, the *evidence*, which is the generating distribution of the data is unknown and very difficult to compute (e.g. image a classification problem where inputs are people portraits).\n",
    "\n",
    "Instead of computing the posterior, one common approach is to compute the Maximum a Posterior (MAP), which is the point in the parameter space $\\theta$ that maximizes the posterior probability:\n",
    "\n",
    "$$\n",
    "\\begin{align*}\n",
    "\\hat{\\theta}_{MAP} & = \\underset{\\theta}{\\mathrm{argmax}} P(\\theta|X) \\\\\n",
    "                   & = \\underset{\\theta}{\\mathrm{argmax}} \\frac{P(X|\\theta)P(\\theta)}{P(X)}\n",
    "\\end{align*}\n",
    "$$\n",
    "\n",
    "As evidence is a constant that does not depend on $\\theta$, we can write:\n",
    "\n",
    "$$\n",
    "\\hat{\\theta}_{MAP} = \\underset{\\theta}{\\mathrm{argmax}} \\frac{P(X|\\theta)P(\\theta)}{P(X)} \\propto P(X|\\theta)P(\\theta)\n",
    "$$\n",
    "\n",
    "So maximizing the posterior probability, in terms of $\\theta$, is equivalent to maximizing the product of the likelihood and the prior:\n",
    "\n",
    "$$\n",
    "\\hat{\\theta}_{MAP} = \\underset{\\theta}{\\mathrm{argmax}} P(X|\\theta)P(\\theta)\n",
    "$$\n",
    "\n",
    "Therefore, **after removing the evidence from the optimization problem, it gets easier to solve**."
   ]
  },
  {
   "cell_type": "markdown",
   "metadata": {},
   "source": [
    "### Not invariant to reparametrization\n",
    "\n",
    "To understand that the fact that the MAP is not invariant to reparametrization is a problem, we must understand first the difference between the Maximum a Posteriori (MAP) and the Maximum Likelihood Estimate (MLE).\n",
    "\n",
    "While we have already presented MAP above, the MLE is a subtype where we assume the prior probability of the parameters is uniform (i.e. all parameter values are equally feasible). Therefore, computing the MLE is the same as computing the point in parameter space where the likelihood function has a maximum:\n",
    "\n",
    "$$\n",
    "\\hat{\\theta}_{MLE} = P(X|\\theta)\n",
    "$$\n",
    "\n",
    "Note that likelihood:\n",
    "\n",
    "- Is a function.\n",
    "- Is a probability density function over the space of the data.\n",
    "- No constraints applied on the integral over all parameter values (they do not need to sum to one).\n",
    "\n",
    "However, the posterior probability needs to ensure that the integral over all data values do sum to one, as it is a probability distribution. Therefore, any non-linear map to the applied to the function due to reparametrization of the prior distribution, can change the location of the mode (i.e. MAP). For a more visual explanation, see this image, extracted from [this slides](http://www.robots.ox.ac.uk/~az/lectures/est/lect34.pdf):\n",
    "\n",
    "![](images/reparametrization_problem.png)\n",
    "\n",
    "More detailed explanations on this problem can be found in the following links:\n",
    "\n",
    "- https://math.stackexchange.com/questions/2318467/why-are-map-estimators-not-invariant-under-reparameterization-while-mles-are\n",
    "- https://www.coursera.org/learn/bayesian-methods-in-machine-learning/discussions/weeks/1/threads/s--xSe7eEeeVUgpJ_g7RbA\n",
    "- https://zhiyzuo.github.io/MLE-vs-MAP/\n",
    "- https://math.stackexchange.com/questions/2318467/why-are-map-estimators-not-invariant-under-reparameterization-while-mles-are"
   ]
  },
  {
   "cell_type": "markdown",
   "metadata": {},
   "source": [
    "### Can't use as prior in next step\n",
    "\n",
    "Let's use a specific prior to illustrate an example. \n",
    "\n",
    "Recall the probability density of the Delta Dirac distribution is:\n",
    "\n",
    "$$\n",
    "\\delta(x - a) = \\begin{cases}\n",
    "+\\infty & x = a \\\\\n",
    "0 & otherwise\n",
    "\\end{cases}\n",
    "$$\n",
    "\n",
    "It must be satisfied that:\n",
    "\n",
    "$$\n",
    "\\int P_{t-1}(\\theta) d\\theta = 1\n",
    "$$\n",
    "\n",
    "We model prior $P_{t-1}(\\theta) \\sim \\delta(\\theta - \\theta_{MAP})$:\n",
    "\n",
    "$$\n",
    "P_{t-1}(\\theta) = \\begin{cases}\n",
    "+\\infty &\\theta = \\theta_{MAP} \\\\\n",
    "0 & otherwise\n",
    "\\end{cases}\n",
    "$$\n",
    "\n",
    "Given posterior is used as the new prior at step $t$:\n",
    "\n",
    "$$\n",
    "\\begin{align*}\n",
    "P_t(\\theta|x) & = \\frac{P(x_t|\\theta)P_{t-1}(\\theta|x)}{P(x_t)} \\\\\n",
    "              & = \\frac{P(x_t|\\theta)\\delta(\\theta - \\theta_{MAP})}{P(x_t)} \\\\\n",
    "              & = \\delta(\\theta - \\theta_{MAP})\n",
    "\\end{align*}\n",
    "$$\n",
    "\n",
    "\n",
    "Note that the\n",
    "\n",
    "- Prior $P_{t-1}(\\theta)$ will force posterior for values of $\\theta$ which are different from $\\theta_{MAP}$ to be zero.\n",
    "- Posterior at $\\theta$ at $\\theta_{MAP}$ will be the product of infinity and a constant, which is also infinity.\n",
    "\n",
    "\n",
    "Therefore:\n",
    "\n",
    "$$\n",
    "P_{t}(\\theta) = \\begin{cases}\n",
    "+\\infty &\\theta = \\theta_{MAP} \\\\\n",
    "0 & otherwise\n",
    "\\end{cases}\n",
    "$$\n",
    "\n",
    "$$\n",
    "\\int P_{t}(\\theta) d\\theta = 1\n",
    "$$\n",
    "\n",
    "And the posterior will remain unchanged. So **we do not get any additional information after using the posterior as the new prior**.\n",
    "\n",
    "Example inspired from reply in [this forum post](https://www.coursera.org/learn/bayesian-methods-in-machine-learning/discussions/weeks/1/threads/Hflx7slrEeeeOhJiLYCq3g)."
   ]
  },
  {
   "cell_type": "markdown",
   "metadata": {},
   "source": [
    "###  No confidence interval provided"
   ]
  },
  {
   "cell_type": "markdown",
   "metadata": {},
   "source": [
    "Note that once we compute the $\\theta_{MAP}$, we do not know which is the confidence interval it lies on."
   ]
  },
  {
   "cell_type": "markdown",
   "metadata": {},
   "source": [
    "### It can be an \"untypical point\"\n",
    "\n",
    "Note that the proposed MAP can be reinterpreted as the solution to the following optimization problem:\n",
    "\n",
    "$$\n",
    "\\theta_{MAP} = \\underset{\\theta}{\\mathrm{argmin}} \\ \\unicode{x1D7D9}[\\theta \\neq \\theta_{MAP}]\n",
    "$$\n",
    "\n",
    "Where $\\theta_{MAP}$ is mode of the posterior. This point can be any points in the parameter space \n",
    "\n",
    "Other point estimates could be proposed depending on which metric we want to extract from the posterior:\n",
    "\n",
    "- Mean of the posterior:\n",
    "\n",
    "$$\n",
    "\\theta_{MEAN} = \\underset{\\theta}{\\mathrm{argmin}} \\ E(\\theta - \\theta_{MAP})^2\n",
    "$$\n",
    "\n",
    "- Median of the posterior:\n",
    "\n",
    "$$\n",
    "\\theta_{MEDIAN} = \\underset{\\theta}{\\mathrm{argmin}} \\ E|\\theta - \\theta_{MAP}|\n",
    "$$\n",
    "\n",
    "However, in these cases, we would need to estimate the *evidence* in the posterior, which is something we want to avoid. "
   ]
  },
  {
   "cell_type": "markdown",
   "metadata": {},
   "source": [
    "## Conjugate distributions\n",
    "\n",
    "Conjugate distributions are an additional approach to avoid computing the *evidence* term in the posterior formula.\n",
    "\n",
    "Prior $P(\\theta)$ is a **conjugate** to the likelihood $P(X|\\theta)$ if the **prior and the posterior** $P(\\theta|X)$ belong to the **same family of probability distributions**."
   ]
  },
  {
   "cell_type": "markdown",
   "metadata": {},
   "source": [
    "### Example 1\n",
    "\n",
    "We have:\n",
    "\n",
    "$$\n",
    "P(\\theta, X) = \\frac{P(X|\\theta)P(\\theta)}{P(X)}\n",
    "$$\n",
    "\n",
    "Imagine that likelihood follows a Normal distribution:\n",
    "\n",
    "$$P(X|\\theta) \\sim \\mathcal{N}(X|\\theta, \\sigma^2)$$\n",
    "\n",
    "Let's choose a Normal distribution as the prior on $\\theta$:\n",
    "\n",
    "$$P(\\theta) \\sim \\mathcal{N}(\\theta|m, s^2)$$\n",
    "\n",
    "Then posterior will be also normal, which means that **Normal distribution is the conjugate of the Normal distribution with respect to the mean**:\n",
    "\n",
    "$$P(\\theta|X) \\sim \\mathcal{N}(\\theta|a, b^2)$$\n",
    "\n",
    "Let's prove this specific example (i.e. $m = 0$, $s^2 = 1$, $\\sigma^2=1$):\n",
    "\n",
    "$$\n",
    "\\begin{align*}\n",
    "P(\\theta, X) & = \\frac{P(X|\\theta)P(\\theta)}{P(X)} \\\\\n",
    "             & = \\frac{\\mathcal{N}(X|\\theta, 1)\\mathcal{N}(\\theta|0, 1)}{P(X)}\n",
    "\\end{align*}\n",
    "$$\n",
    "\n",
    "$$\n",
    "\\begin{align*}\n",
    "P(\\theta, X) \\propto & \\frac{1}{\\sqrt{2\\pi}} \\mathrm{exp}\\left[-\\frac{1}{2}(x - \\theta)^2\\right] \\frac{1}{\\sqrt{2\\pi}} \\mathrm{exp}\\left[-\\frac{1}{2}\\theta^2\\right] \\\\\n",
    "             \\propto & \\ \\mathrm{exp}\\left[-\\frac{1}{2}(x - \\theta)^2\\right] \\mathrm{exp}\\left[-\\frac{1}{2}\\theta^2\\right] \\\\\n",
    "             \\propto & \\ \\mathrm{exp}\\left[-\\frac{1}{2}\\left(x^2 + 2\\theta^2 - 2x\\theta \\right)\\right] \\\\\n",
    "             \\propto & \\ \\mathrm{exp}\\left[-\\frac{x^2}{2} - \\theta^2 + \\theta x\\right] \\\\\n",
    "             \\propto & \\ \\mathrm{exp}\\left[-(\\theta-\\frac{x}{2})^2\\right] \\mathrm{exp}\\left[-\\frac{1}{2} x^2\\right] \\mathrm{exp}\\left[\\frac{1}{4} x^2\\right]\n",
    "\\end{align*}\n",
    "$$\n",
    "\n",
    "As $\\mathrm{exp}\\left[-\\frac{1}{2} x^2\\right] \\mathrm{exp}\\left[\\frac{1}{4} x^2\\right]$ do not depend on $\\theta$, we can finally write:\n",
    "\n",
    "$$\n",
    "P(\\theta, X) \\propto \\mathrm{exp}\\left[-(\\theta-\\frac{x}{2})^2\\right]\n",
    "$$\n",
    "\n",
    "Note that this is the expression of:\n",
    "\n",
    "$$\n",
    "\\mathcal{N}(\\theta| \\frac{x}{2}, \\frac{1}{2})\n",
    "$$\n",
    "\n",
    "as:\n",
    "\n",
    "$$\n",
    "\\begin{align*}\n",
    "\\mathcal{N}\\left(\\theta| \\frac{x}{2}, \\frac{1}{2}\\right) =& \\\\\n",
    "                                                         =& \\frac{1}{\\sigma \\sqrt{2\\pi}} \\mathrm{exp}\\left[-\\frac{1}{2} \\left(\\frac{\\theta - \\frac{x}{2}}{\\sigma}\\right)^2\\right] \\\\\n",
    "                                                         =& \\frac{\\sqrt{2}}{\\sqrt{2\\pi}} \\mathrm{exp}\\left[-(\\theta - \\frac{x}{2})^2\\right] \\propto \\mathrm{exp}\\left[-(\\theta-\\frac{x}{2})^2\\right]\n",
    "\\end{align*}\n",
    "$$"
   ]
  },
  {
   "cell_type": "markdown",
   "metadata": {},
   "source": [
    "## Example 2\n",
    "\n",
    "**The Gamma distribution is the conjugate of the Normal distribution with respect to the precision**. Therefore, if we model likelihood as the Normal density function and we set a prior on the precision of the Normal distribution as a Gamma, we ensure the posterior distribution follows a Gamma distribution.\n",
    "\n",
    "In a normal distribution, precision $\\tau$ is the reciprocal of the variance:\n",
    "\n",
    "$$\n",
    "\\gamma = \\frac{1}{\\sigma^2}\n",
    "$$\n",
    "\n",
    "The higher the precision, the lower the variance and the narrower the normal distribution is.\n",
    "\n",
    "We can rewrite the normal distribution density with respect to the precision:\n",
    "\n",
    "$$\n",
    "\\mathcal{N}(x|\\mu, \\gamma^{-1}) = \\frac{\\sqrt{\\gamma}}{\\sqrt{2\\pi}} \\mathrm{exp}\\left[-\\frac{\\gamma}{2}(\\mu - x)^2\\right]\n",
    "$$\n",
    "\n",
    "If we express the normal probability density in terms of the precision:\n",
    "\n",
    "$$\n",
    "\\mathcal{N}(x|\\mu, \\gamma^{-1}) \\propto \\gamma^{\\frac{1}{2}} \\mathrm{exp}\\left[-\\frac{\\gamma}{2}(\\mu - x)^2\\right]\n",
    "$$\n",
    "\n",
    "Let's define our likelihood function as:\n",
    "\n",
    "$$\n",
    "P(X|\\theta) \\sim \\mathcal{N}(x|\\mu, \\gamma^{-1}) \\propto \\gamma^{\\frac{1}{2}} \\mathrm{exp}\\left[-\\frac{\\gamma}{2}(\\mu - x)^2\\right]\n",
    "$$\n",
    "\n",
    "If we define our prior as a Gamma in terms of the precision, we get:\n",
    "\n",
    "$$\n",
    "P(\\gamma) = \\frac{b^a}{\\Gamma(a)} \\gamma^{a - 1} \\mathrm{exp}\\left[-b\\gamma\\right] \\propto \\gamma^{a - 1} \\mathrm{exp}\\left[-b\\gamma\\right]\n",
    "$$\n",
    "\n",
    "Then we can compute posterior as:\n",
    "\n",
    "$$\n",
    "\\begin{align*}\n",
    "P(\\gamma|x) \\propto & \\ P(x|\\gamma)P(\\gamma) \\\\\n",
    "            \\propto & \\ \\gamma^{\\frac{1}{2}} \\mathrm{exp}\\left[-\\frac{\\gamma}{2}(\\mu - x)^2\\right] \\gamma^{a - 1} \\mathrm{exp}\\left[-b\\gamma\\right] \\\\\n",
    "            \\propto & \\ \\gamma^{a + \\frac{1}{2} - 1} \\mathrm{exp}\\left[-\\gamma \\left(b + \\frac{1}{2} (\\mu - x)^2 \\right)\\right]\n",
    "\\end{align*}\n",
    "$$\n",
    "\n",
    "So posterior follows Gamma distribution:\n",
    "\n",
    "$$\n",
    "P(\\gamma|x) \\sim \\Gamma(a + \\frac{1}{2}, b + \\frac{(x - \\mu)^2}{2})\n",
    "$$\n",
    "\n",
    "More info on the Gamma distribution in [this section](#extra)\n",
    "\n",
    "The lecture proves tries to prove that the Gaussian distribution is not a conjugate of the Gaussian distribution with respect of the precision. However, this demonstration is not clear enough in the videos and has been omitted (though it would be valuable here)."
   ]
  },
  {
   "cell_type": "markdown",
   "metadata": {},
   "source": [
    "### Example 3\n",
    "\n",
    "The **Beta distribution is the conjugate of the Bernoulli distribution**. Therefore, if we model our likelihood as a Bernoulli distribution and we model the probability $p$ as a Beta distribution, the posterior is also a Beta.\n",
    "\n",
    "Given a Bernoulli likelihood:\n",
    "\n",
    "$$\n",
    "P(X|\\theta) = \\theta^{N_1} (1 - \\theta)^{N_0}\n",
    "$$\n",
    "\n",
    "Where $N_0$ is the number of positive outcomes of binary events $X = \\{x_1, ..., x_N\\}$ and $N_1 = N - N_0$.\n",
    "\n",
    "We model $\\theta$ as a Beta distribution:\n",
    "\n",
    "$$P(\\theta) \\sim Beta(\\theta|a, b) \\propto \\theta^{a-1} (1-\\theta)^{b-1}$$\n",
    "\n",
    "Then, we can compute posterior as:\n",
    "\n",
    "$$\n",
    "\\begin{align*}\n",
    "P(\\theta|X) \\propto & \\ P(X|\\theta) P(\\theta) \\\\\n",
    "            \\propto & \\ \\theta^{N_1} (1 - \\theta)^{N_0} \\theta^{a-1} (1-\\theta)^{b-1} \\\\\n",
    "            \\propto & \\ \\theta^{N_1 + a - 1} (1-\\theta)^{N_0 + b - 1}\n",
    "\\end{align*}\n",
    "$$\n",
    "\n",
    "Then we confirm posterior can be modelled as Beta:\n",
    "\n",
    "$$\n",
    "P(\\theta|X) \\sim Beta(N_1 + a, N_0 + b)\n",
    "$$\n",
    "\n",
    "You can see a table relating likelihoods and their conjugates in [this table](https://en.wikipedia.org/wiki/Conjugate_prior)."
   ]
  },
  {
   "cell_type": "markdown",
   "metadata": {},
   "source": [
    "## Distributions recap\n",
    "\n",
    "### Gamma distribution\n",
    "\n",
    "#### Description\n",
    "\n",
    "Recall probability density function for Gamma distribution is:\n",
    "\n",
    "$$\n",
    "\\Gamma(\\gamma|a, b) = \\frac{b^a}{\\Gamma(a)} \\gamma^{a - 1} \\mathrm{exp}\\left[-b\\gamma\\right]\n",
    "$$\n",
    "\n",
    "Where:\n",
    "\n",
    "$$\n",
    "\\Gamma(n) = (n-1)!\n",
    "$$\n",
    "\n",
    "$a$ is the shape parameter and $b$ is the inverse scale parameter (i.e. $b = \\frac{1}{\\theta}$).\n",
    "\n",
    "Note $\\gamma$, $a$, $b$ are positive, as the distribution is a distribution over the positive axis. \n",
    "\n",
    "#### Statistics\n",
    "\n",
    "- Expected value $\\mathrm{E}[\\gamma] = \\frac{a}{b}$.\n",
    "- Variance $\\mathrm{Var}[\\gamma] = \\frac{a}{b^2}$.\n"
   ]
  },
  {
   "cell_type": "markdown",
   "metadata": {},
   "source": [
    "#### Visualization\n",
    "\n",
    "Let's see some examples using different parameters:"
   ]
  },
  {
   "cell_type": "code",
   "execution_count": 28,
   "metadata": {},
   "outputs": [
    {
     "data": {
      "image/png": "[encoded data removed]",
      "text/plain": [
       "<Figure size 720x360 with 1 Axes>"
      ]
     },
     "metadata": {
      "needs_background": "light"
     },
     "output_type": "display_data"
    }
   ],
   "source": [
    "examples = [(0.5, 0.5), (1, 1), (1, 3), (3, 3), (5, 1), (5, 3)]\n",
    "x = np.linspace(0, 10, num=250)\n",
    "\n",
    "plt.figure(figsize=(10, 5))\n",
    "for current_a, current_b in examples:\n",
    "    plt.plot(x,\n",
    "             gamma.pdf(x, a=current_a, scale=1/current_b),\n",
    "             label=f'a={current_a},b={current_b}')\n",
    "plt.legend()\n",
    "plt.title('Gamma distribution examples');"
   ]
  },
  {
   "cell_type": "markdown",
   "metadata": {},
   "source": [
    "We can see that Gamma functions resemble whether a unimodal distribution or an exponential decaying one."
   ]
  },
  {
   "cell_type": "markdown",
   "metadata": {},
   "source": [
    "#### Example\n",
    "\n",
    "Let's present a \"real life\" example.\n",
    "\n",
    "Image we run every day approximately 5 km (i.e. expected value), and that there is usually a deviation of 100 meters more or less (i.e. standard deviation, root of the variance). Note that Gaussian does not make sense here as we cannot run negative distances.\n",
    "\n",
    "We define the likelihood function as Gamma distribution:\n",
    "\n",
    "$$\n",
    "P(x|\\theta) \\sim \\Gamma(x|a, b)\n",
    "$$\n",
    "\n",
    "The maximum likelihood estimates for $a$ and $b$ given the information provided would be:\n",
    "\n",
    "$$\n",
    "\\begin{cases}\n",
    "\\mathrm{Var}[\\gamma] = \\frac{a}{b^2} = 0.1^2 \\\\\n",
    "\\mathrm{E}[\\gamma] = \\frac{a}{b} = 5\n",
    "\\end{cases}\n",
    "$$\n",
    "\n",
    "Then\n",
    "\n",
    "$$a_{MLE} = 2500, b_{MLE} = 500$$\n",
    "\n",
    "If we plot this distribution, we get:"
   ]
  },
  {
   "cell_type": "code",
   "execution_count": 34,
   "metadata": {},
   "outputs": [
    {
     "data": {
      "image/png": "[encoded data removed]",
      "text/plain": [
       "<Figure size 720x360 with 1 Axes>"
      ]
     },
     "metadata": {
      "needs_background": "light"
     },
     "output_type": "display_data"
    }
   ],
   "source": [
    "x = np.linspace(0, 10, num=500)\n",
    "\n",
    "plt.figure(figsize=(10, 5))\n",
    "plt.plot(x, gamma.pdf(x, a=2500, scale=1/500))\n",
    "plt.title('Probability density for Gamma (a=2500, b=500)');"
   ]
  },
  {
   "cell_type": "markdown",
   "metadata": {},
   "source": [
    "### Beta distribution\n",
    "\n",
    "#### Description\n",
    "\n",
    "Recall the Beta distribution:\n",
    "\n",
    "$$\n",
    "B(x|a, b) = \\frac{1}{B(a,b)}x^{a-1} (1 - x)^{b-1}\n",
    "$$\n",
    "\n",
    "Where:\n",
    "\n",
    "- $a > 0$, $b > 0$.\n",
    "- $x \\in [0,1]$.\n",
    "- $B(a,b) = \\frac{\\Gamma(a)\\Gamma(b)}{\\Gamma(a+b)}$ where $\\Gamma$ is the Gamma function described above.\n",
    "\n",
    "#### Statistics\n",
    "\n",
    "- $\\mathrm{E} = \\frac{a}{a+b}$.\n",
    "- $\\mathrm{Var} = \\frac{av}{(a+b)^2(a+b-1)}$.\n",
    "\n",
    "#### Visualization\n",
    "\n",
    "Let's visualize Beta distribution for some values:"
   ]
  },
  {
   "cell_type": "code",
   "execution_count": 37,
   "metadata": {},
   "outputs": [
    {
     "data": {
      "image/png": "[encoded data removed]",
      "text/plain": [
       "<Figure size 720x360 with 1 Axes>"
      ]
     },
     "metadata": {
      "needs_background": "light"
     },
     "output_type": "display_data"
    }
   ],
   "source": [
    "examples = [(0.1, 0.1), (1, 1), (1, 3), (2, 3), (3, 5)]\n",
    "\n",
    "x = np.linspace(0, 1, num=250)\n",
    "\n",
    "plt.figure(figsize=(10, 5))\n",
    "for current_a, current_b in examples:\n",
    "    plt.plot(x,\n",
    "             beta.pdf(x, a=current_a, b=current_b),\n",
    "             label=f'a={current_a},b={current_b}')\n",
    "plt.legend()\n",
    "plt.title('Beta distribution examples');"
   ]
  },
  {
   "cell_type": "markdown",
   "metadata": {},
   "source": [
    "We can get a binomial distribution, U-shaped distribution or even the uniform distribution."
   ]
  },
  {
   "cell_type": "markdown",
   "metadata": {},
   "source": [
    "#### Example\n",
    "\n",
    "We can use the Beta distribution to model the likelihood of the rank of our watched movies in IMDB, so our favorite movie is ranked with a $1$ and our least favorite movie is ranked with a $0$. As we score new movies, rank may variate.\n",
    "\n",
    "Given the expected rank $\\mathrm{E}[x]$ is 0.8 and $\\mathrm{Var} = 0.1^2$, we can easily compute the maximum likelihood estimate for a and b:\n",
    "\n",
    "$a = 12, b=3$\n",
    "\n",
    "And we can plot the distribution:"
   ]
  },
  {
   "cell_type": "code",
   "execution_count": 39,
   "metadata": {},
   "outputs": [
    {
     "data": {
      "image/png": "[encoded data removed]",
      "text/plain": [
       "<Figure size 720x360 with 1 Axes>"
      ]
     },
     "metadata": {
      "needs_background": "light"
     },
     "output_type": "display_data"
    }
   ],
   "source": [
    "x = np.linspace(0, 1, num=500)\n",
    "\n",
    "plt.figure(figsize=(10, 5))\n",
    "\n",
    "plt.plot(x, beta.pdf(x, a=12, b=3))\n",
    "plt.title('Probability density for Beta (a=12, b=3)');"
   ]
  },
  {
   "cell_type": "markdown",
   "metadata": {},
   "source": [
    "## Non-parametric approaches for density estimation\n",
    "\n",
    "If we do not choose proper densities, we will end up with a poor model, leading to bad predictive performance. An alternative would be to use non-parametric models, such as:\n",
    "\n",
    "- Kernel density estimation. It is computed by placing a kernel (e.g. usually Gaussian) on each data point, add the contributions over all dataset and normalizing.\n",
    "- K nearest neighbors."
   ]
  },
  {
   "cell_type": "markdown",
   "metadata": {},
   "source": [
    "## Conclusions\n",
    "\n",
    "We have seen the following pros and cons for the maximum a posteriori (MAP):\n",
    "\n",
    "| Pro               | Con                                         |\n",
    "| ----------------  | ------------------------------------------  |\n",
    "| Easy to compute   | May be an \"unlikely\" point                  |\n",
    "|                   | Not invariant to parametrization            |\n",
    "|                   | Provides no confidence interval             |\n",
    "|                   | Can't be used as a prior in online learning |\n",
    "\n",
    "On the other hand, we have seen the following pros and cons for the conjugate priors:\n",
    "\n",
    "| Pro                             | Con                                         |\n",
    "| ------------------------------- | ------------------------------------------  |\n",
    "| Provides exact posterior        | Conjugate prior may not be adequate         |\n",
    "\n",
    "Next lectures will present technique to compute or approximate posterior when prior does not allow computing an exact posterior."
   ]
  }
 ],
 "metadata": {
  "kernelspec": {
   "display_name": "Python 3",
   "language": "python",
   "name": "python3"
  },
  "language_info": {
   "codemirror_mode": {
    "name": "ipython",
    "version": 3
   },
   "file_extension": ".py",
   "mimetype": "text/x-python",
   "name": "python",
   "nbconvert_exporter": "python",
   "pygments_lexer": "ipython3",
   "version": "3.7.7"
  }
 },
 "nbformat": 4,
 "nbformat_minor": 4
}
