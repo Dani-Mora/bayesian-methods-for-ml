{
 "cells": [
  {
   "cell_type": "markdown",
   "metadata": {},
   "source": [
    "# Bayesian methods for machine learning - Week 2"
   ]
  },
  {
   "cell_type": "markdown",
   "metadata": {},
   "source": [
    "## Introducing the data\n",
    "\n",
    "The FashionMNIST is an alternative to the traditional MNIST. It consists of 60k grayscale $m \\times m$ (i.e. $m=28$) images belonging to 10 different types of clothing. Let's see some examples."
   ]
  },
  {
   "cell_type": "code",
   "execution_count": 1,
   "metadata": {},
   "outputs": [
    {
     "data": {
      "image/png": "[encoded data removed]",
      "text/plain": [
       "<Figure size 1152x360 with 6 Axes>"
      ]
     },
     "metadata": {
      "needs_background": "light"
     },
     "output_type": "display_data"
    }
   ],
   "source": [
    "from typing import Tuple\n",
    "import random\n",
    "import sklearn.datasets\n",
    "import matplotlib.pyplot as plt\n",
    "import numpy as np\n",
    "\n",
    "# For reproducibility\n",
    "np.random.seed(500)\n",
    "\n",
    "# https://github.com/zalandoresearch/fashion-mnist\n",
    "dataset = sklearn.datasets.fetch_openml(name='Fashion-MNIST')\n",
    "X = dataset['data']\n",
    "y = dataset['target'].astype(int)\n",
    "D = X.shape[-1]\n",
    "m = int(np.sqrt(D))\n",
    "\n",
    "\n",
    "labels = {\n",
    "    0: 'T-shirt/top',\n",
    "    1: 'Trouser',\n",
    "    2: 'Pullover',\n",
    "    3: 'Dress',\n",
    "    4: 'Coat',\n",
    "    5: 'Sandal',\n",
    "    6: 'Shirt',\n",
    "    7: 'Sneaker', \n",
    "    8: 'Bag', \n",
    "    9: 'Ankle boot'\n",
    "}\n",
    "\n",
    "\n",
    "def display_examples(X: np.ndarray, y: np.ndarray, n_images: int = 6) -> None:\n",
    "    fig, axs = plt.subplots(1, n_images, figsize=(16, 5))\n",
    "    idxs = random.sample(range(len(X)), n_images)\n",
    "\n",
    "    for i, idx in enumerate(idxs):\n",
    "        axs[i].imshow(X[idx, ...].reshape(m, m))\n",
    "        axs[i].set_title(labels[y[idx]])\n",
    "\n",
    "display_examples(X, y)"
   ]
  },
  {
   "cell_type": "markdown",
   "metadata": {},
   "source": [
    "### Introducing the problem"
   ]
  },
  {
   "cell_type": "markdown",
   "metadata": {},
   "source": [
    "We define each of the images as a flattened vector $\\pmb{x} \\in \\mathcal{R}^{D = m \\times m}$ where each pixel is represented as a Bernoulli variable $x_i$ conditioned by parameter $\\mu_i$:\n",
    "\n",
    "$$\n",
    "x_i \\sim Bernoulli(\\mu_i) \\\\\n",
    "P(x_i | \\mu_i) = \\mu_i^{x_i} (1 - \\mu_i)^{(1 - x_i)}\n",
    "$$\n",
    "\n",
    "Each example is conformed by a set of $D$ binary variables. The likelihood of $\\pmb{x}$ is defined as:\n",
    "\n",
    "$$\n",
    "P(\\pmb{x} | \\pmb{\\mu}) = \\prod^{D}_{i=1} P(x_i | \\mu_i) = \\prod^{D}_{i=1} \\mu_i^{x_i} (1 - \\mu_i)^{(1 - x_i)}\n",
    "$$\n",
    "\n",
    "Where $\\pmb{\\mu} = \\{ \\mu_1, \\ldots, \\mu_D\\}^{\\top}$.\n",
    "\n",
    "We define a mixture of $K$ components, as we know there are $K=10$ generating distributions, one for each type of clothing:\n",
    "\n",
    "$$\n",
    "P(\\pmb{x} | \\pmb{\\mu}, \\pmb{\\pi}) = \\sum^{K}_{k=1} \\pi_k P(\\pmb{x} | \\pmb{\\mu_k})\n",
    "$$\n",
    "\n",
    "Where $\\pmb{\\mu} = \\{\\pmb{\\mu_1}, \\ldots, \\pmb{\\mu_K}\\}$ and $\\pmb{\\pi} = \\{\\pi_1, \\ldots, \\pi_K\\}$.\n",
    "\n",
    "The log likelihood of the model, which we would like to maximize, is defined as:\n",
    "\n",
    "$$\n",
    "\\log P(\\pmb{X} | \\pmb{\\mu}, \\pmb{\\pi}) = \\sum^N_{i=1} \\log \\left\\{ \\sum^K_{k=1} \\pi_k P(\\pmb{x_i} | \\pmb{\\mu_k}) \\right\\}\n",
    "$$\n",
    "\n",
    "This does not have a closed solution."
   ]
  },
  {
   "cell_type": "markdown",
   "metadata": {},
   "source": [
    "## Introducing Latent Variables\n",
    "\n",
    "Let's maximize the log likelihood for the mixture model through EM. Let's add a latent variable $\\pmb{z} = \\{z_1, \\ldots, z_K\\}$ associated with each of the examples as a binary vector where one and only one of the $K$ elements in the vector is equal to one.\n",
    "\n",
    "The conditional distribution of $\\pmb{x}$ given $\\pmb{z}$ is given by:\n",
    "\n",
    "$$\n",
    "P(\\pmb{x} | \\pmb{z}, \\pmb{\\mu}) = \\prod^K_{k=1} P(\\pmb{x} | \\mu_k)^{z_k}\n",
    "$$\n",
    "\n",
    "And the prior probability for $\\pmb{z}$ is given by:\n",
    "\n",
    "$$\n",
    "P(\\pmb{z} | \\pmb{\\pi}) = \\prod^{K}_{k=1} \\pi_k^{z_k}\n",
    "$$\n",
    "\n",
    "Given set of $\\pmb{N}$ instances and corresponding latent variables $\\pmb{Z}$, we can graphically represent the model:"
   ]
  },
  {
   "cell_type": "code",
   "execution_count": 2,
   "metadata": {},
   "outputs": [
    {
     "data": {
      "image/svg+xml": [
       "<?xml version=\"1.0\" encoding=\"UTF-8\" standalone=\"no\"?>\n",
       "<!DOCTYPE svg PUBLIC \"-//W3C//DTD SVG 1.1//EN\"\n",
       " \"http://www.w3.org/Graphics/SVG/1.1/DTD/svg11.dtd\">\n",
       "<!-- Generated by graphviz version 2.42.3 (20191010.1750)\n",
       " -->\n",
       "<!-- Title: %3 Pages: 1 -->\n",
       "<svg width=\"172pt\" height=\"239pt\"\n",
       " viewBox=\"0.00 0.00 172.00 238.60\" xmlns=\"http://www.w3.org/2000/svg\" xmlns:xlink=\"http://www.w3.org/1999/xlink\">\n",
       "<g id=\"graph0\" class=\"graph\" transform=\"scale(1 1) rotate(0) translate(4 234.6)\">\n",
       "<title>%3</title>\n",
       "<polygon fill=\"white\" stroke=\"transparent\" points=\"-4,4 -4,-234.6 168,-234.6 168,4 -4,4\"/>\n",
       "<g id=\"clust1\" class=\"cluster\">\n",
       "<title>cluster_n</title>\n",
       "<polygon fill=\"none\" stroke=\"black\" points=\"8,-8 8,-186 156,-186 156,-8 8,-8\"/>\n",
       "<text text-anchor=\"middle\" x=\"141.5\" y=\"-15.8\" font-family=\"Times,serif\" font-size=\"14.00\">N</text>\n",
       "</g>\n",
       "<g id=\"clust2\" class=\"cluster\">\n",
       "<title>cluster_d</title>\n",
       "<polygon fill=\"none\" stroke=\"black\" points=\"78,-39 78,-169.8 148,-169.8 148,-39 78,-39\"/>\n",
       "<text text-anchor=\"middle\" x=\"134\" y=\"-46.8\" font-family=\"Times,serif\" font-size=\"14.00\">D</text>\n",
       "</g>\n",
       "<!-- p -->\n",
       "<g id=\"node1\" class=\"node\">\n",
       "<title>p</title>\n",
       "<ellipse fill=\"black\" stroke=\"black\" cx=\"43\" cy=\"-215.8\" rx=\"1.8\" ry=\"1.8\"/>\n",
       "<text text-anchor=\"start\" x=\"31.2\" y=\"-222\" font-family=\"Times,serif\" font-weight=\"bold\" font-size=\"12.00\">π</text>\n",
       "</g>\n",
       "<!-- z -->\n",
       "<g id=\"node4\" class=\"node\">\n",
       "<title>z</title>\n",
       "<ellipse fill=\"none\" stroke=\"black\" cx=\"43\" cy=\"-160\" rx=\"27\" ry=\"18\"/>\n",
       "<text text-anchor=\"middle\" x=\"43\" y=\"-156.3\" font-family=\"Times,serif\" font-size=\"14.00\">z</text>\n",
       "</g>\n",
       "<!-- p&#45;&gt;z -->\n",
       "<g id=\"edge3\" class=\"edge\">\n",
       "<title>p&#45;&gt;z</title>\n",
       "<path fill=\"none\" stroke=\"black\" d=\"M43,-213.87C43,-210.64 43,-199.55 43,-188.35\"/>\n",
       "<polygon fill=\"black\" stroke=\"black\" points=\"46.5,-188.26 43,-178.26 39.5,-188.26 46.5,-188.26\"/>\n",
       "</g>\n",
       "<!-- m -->\n",
       "<g id=\"node2\" class=\"node\">\n",
       "<title>m</title>\n",
       "<ellipse fill=\"black\" stroke=\"black\" cx=\"113\" cy=\"-160\" rx=\"1.8\" ry=\"1.8\"/>\n",
       "<text text-anchor=\"start\" x=\"97.2\" y=\"-166.2\" font-family=\"Times,serif\" font-weight=\"bold\" font-size=\"12.00\">μi</text>\n",
       "</g>\n",
       "<!-- x -->\n",
       "<g id=\"node3\" class=\"node\">\n",
       "<title>x</title>\n",
       "<ellipse fill=\"none\" stroke=\"black\" cx=\"113\" cy=\"-88\" rx=\"27\" ry=\"18\"/>\n",
       "<text text-anchor=\"middle\" x=\"113\" y=\"-84.3\" font-family=\"Times,serif\" font-size=\"14.00\">xi</text>\n",
       "</g>\n",
       "<!-- m&#45;&gt;x -->\n",
       "<g id=\"edge1\" class=\"edge\">\n",
       "<title>m&#45;&gt;x</title>\n",
       "<path fill=\"none\" stroke=\"black\" d=\"M113,-158.01C113,-153.41 113,-133.64 113,-116.44\"/>\n",
       "<polygon fill=\"black\" stroke=\"black\" points=\"116.5,-116.21 113,-106.21 109.5,-116.21 116.5,-116.21\"/>\n",
       "</g>\n",
       "<!-- z&#45;&gt;x -->\n",
       "<g id=\"edge2\" class=\"edge\">\n",
       "<title>z&#45;&gt;x</title>\n",
       "<path fill=\"none\" stroke=\"black\" d=\"M57.5,-144.5C67.27,-134.73 80.31,-121.69 91.3,-110.7\"/>\n",
       "<polygon fill=\"black\" stroke=\"black\" points=\"93.92,-113.03 98.51,-103.49 88.97,-108.08 93.92,-113.03\"/>\n",
       "</g>\n",
       "</g>\n",
       "</svg>\n"
      ],
      "text/plain": [
       "<graphviz.dot.Digraph at 0x7f9dda4719d0>"
      ]
     },
     "execution_count": 2,
     "metadata": {},
     "output_type": "execute_result"
    }
   ],
   "source": [
    "from graphviz import Digraph\n",
    "\n",
    "plate_nb = Digraph()\n",
    "\n",
    "plate_nb.node('p', xlabel='<<b><font point-size=\"12\">&pi;</font></b>>', shape='point')\n",
    "\n",
    "with plate_nb.subgraph(name='cluster_n') as plate_n:\n",
    "    \n",
    "    with plate_n.subgraph(name='cluster_d') as plate_d:\n",
    "        \n",
    "        plate_d.node('m', xlabel='<<b><font point-size=\"12\">&mu;i</font></b>>', shape='point')\n",
    "        plate_d.node('x', 'xi')\n",
    "        plate_d.edge('m', 'x')\n",
    "        plate_d.attr(label='D', labeljust='r', labelloc='b')\n",
    "\n",
    "    plate_n.node('z')\n",
    "    plate_n.edge('z', 'x')\n",
    "    plate_n.attr(label='N', labeljust='r', labelloc='b')\n",
    "\n",
    "plate_nb.edge('p', 'z')\n",
    "    \n",
    "plate_nb"
   ]
  },
  {
   "cell_type": "markdown",
   "metadata": {},
   "source": [
    "The joint probability can be expressed as:\n",
    "    \n",
    "$$\n",
    "P(\\pmb{X}, \\pmb{Z} | \\pmb{\\theta}) = P(\\pmb{X} | \\pmb{Z}, \\pmb{\\mu}) P(\\pmb{Z} | \\pmb{\\pi})\n",
    "$$\n",
    "\n",
    "Where $\\pmb{\\theta}$ is the list of parameters of the model.\n",
    "\n",
    "\n",
    "The complete likelihood of the model can be expressed as:\n",
    "\n",
    "$$\n",
    "\\begin{align*}\n",
    "P(\\pmb{X}, \\pmb{Z} | \\pmb{\\theta}) & = \\prod_{i=1}^N \\prod_{k=1}^{K} P(\\pmb{x_i} | \\pmb{\\mu_k})^{z_{ik}} \\prod_{s=1}^{K} \\pi_k^{z_{is}} \\\\\n",
    "                                   & = \\prod_{i=1}^N \\prod_{k=1}^{K} \\left(\\pi_k P(\\pmb{x_i} | \\pmb{\\mu_k})\\right)^{z_{ik}}\n",
    "\\end{align*}\n",
    "$$\n",
    "\n",
    "Our goal is to obtain $\\pmb{\\theta}^{*}$ so the log likelihood of the data is maximal:\n",
    "\n",
    "$$\n",
    "\\begin{align*}\n",
    "\\pmb{\\theta}^{*} & = \\underset{\\pmb{\\theta}}{\\mathrm{argmax}} \\log P(\\pmb{X}, \\pmb{Z} | \\pmb{\\theta}) \\\\\n",
    "                 & = \\sum_{i=1}^{N} \\sum_{k=1}^{K} \\log \\left\\{ \\left( \\pi_k P(\\pmb{x_i} | \\pmb{\\mu_k}) \\right)^{z_{ik}} \\right\\} \\\\\n",
    "                 & = \\sum_{i=1}^{N} \\sum_{k=1}^{K} z_{ik} \\log \\pi_k P(\\pmb{x_i} | \\pmb{\\mu_k}) \\\\\n",
    "                 & = \\sum_{i=1}^{N} \\sum_{k=1}^{K} z_{ik} \\left[ \\log \\pi_k + \\log P(\\pmb{x_i} | \\pmb{\\mu_k}) \\right] \\\\\n",
    "                 & = \\sum_{i=1}^{N} \\sum_{k=1}^{K} z_{ik} \\left[ \\log \\pi_k + \\sum^{D}_{j=1} x_{ij} \\log \\mu_{kj} + (1 - x_{ij}) \\log (1 - \\mu_{kj}) \\right] \\\\              \n",
    "\\end{align*}\n",
    "$$"
   ]
  },
  {
   "cell_type": "markdown",
   "metadata": {},
   "source": [
    "### E-step\n",
    "\n",
    "In this step, [as seen previously](3_0_generic_em_algorithm.ipynb), we set the lower bound function at iteration $t$ to the posterior of the latent variables:\n",
    "\n",
    "$$\n",
    "q^{t+1} (\\pmb{Z}) = P(\\pmb{Z}|\\pmb{X}, \\pmb{\\theta}^t)\n",
    "$$\n",
    "\n",
    "The posterior can be obtained through the Bayes theorem:\n",
    "\n",
    "$$\n",
    "P(z_{ik} = 1 | \\pmb{x_i}) = \\frac{P(\\pmb{x_i} | z_{ik} = 1)P(z_{ik}=1)}{P(\\pmb{x_i})}\n",
    "$$\n",
    "\n",
    "The conditional probability of $x$ given the latent variable $z$ is defined as:\n",
    "\n",
    "$$\n",
    "P(\\pmb{x_i} | z_k = 1, \\pmb{\\mu}) = P(x | \\mu_k)\n",
    "$$\n",
    "\n",
    "And the prior probability of $\\pmb{z}$ is:\n",
    "\n",
    "$$\n",
    "P(z_{ik}=1) = \\pi_k\n",
    "$$\n",
    "\n",
    "Finally, the normalization term can be obtained through marginalization from the joint probability distribution of $x$ and $z$:\n",
    "\n",
    "$$\n",
    "P(\\pmb{x}, \\pmb{z}) = P(\\pmb{x}| \\pmb{\\mu}, \\pmb{z})P(\\pmb{z})\n",
    "$$\n",
    "\n",
    "So:\n",
    "\n",
    "$$\n",
    "P(\\pmb{x}) = \\sum_k^K P(\\pmb{x}|z_k = 1)P(z_k=1)\n",
    "$$\n",
    "\n",
    "Therefore, responsability $z_ik$ is computed as:\n",
    "\n",
    "$$\n",
    "\\begin{align*}\n",
    "P(z_{ik} | \\pmb{x_i}) & = \\frac{P(\\pmb{x_i} | z_{ik} = 1)P(z_{ik}=1)}{P(\\pmb{x})} \\\\\n",
    "              & = \\frac{P(z_{ik} = 1) P(x_i | \\mu_k)}{\\sum_j^K P(\\pmb{x_i}|z_{ij} = 1)P(z_{ij}=1)} \\\\\n",
    "              & = \\frac{\\pi_k P(\\pmb{x_i}| \\pmb{\\mu_k})}{\\sum_j^K \\pi_j P(\\pmb{x_i}| \\pmb{\\mu_j})}\n",
    "\\end{align*}\n",
    "$$"
   ]
  },
  {
   "cell_type": "markdown",
   "metadata": {},
   "source": [
    "### M-Step\n",
    "\n",
    "In the M-Step, we maximize the log likelihood of the data with respect to $\\pmb{\\theta}$. Let's find, first, the derivative of the log likelihood with respect to $\\mu_k$ (i.e. probability of passing for grader $k$) using the posterior probability computed in the previous step:\n",
    "\n",
    "$$\n",
    "\\begin{align*}\n",
    "\\frac{\\partial}{\\partial{\\pmb{\\mu_k}}} \\log P(\\pmb{X}, \\pmb{Z} | \\pmb{\\theta}) & = \\frac{\\partial}{\\partial{\\pmb{\\mu_k}}} \\left\\{ \\sum_{i=1}^{N} \\sum_{j=1}^{K} q^{t+1}(z_{ij} | \\pmb{x_i}) \\left[ \\log \\pi_j + \\sum^{D}_{d=1} x_{id} \\log \\mu_{jd} + (1 - x_{id}) \\log (1 - \\mu_{jd}) \\right] \\right\\} \\\\\n",
    "                                                                               & = \\sum_{i=1}^{N} q^{t+1}(z_{ik} | \\pmb{x_i}) \\frac{\\partial}{\\partial{\\pmb{\\mu_k}}} \\left\\{ \\sum^{D}_{d=1} x_{id} \\log \\mu_{kd} + (1 - x_{id}) \\log (1 - \\mu_{kd}) \\right\\} \\\\\n",
    "\\end{align*}\n",
    "$$\n",
    "\n",
    "\n",
    "Let's find the derivative with respect to $\\mu_{kj}$ instead:\n",
    "\n",
    "$$\n",
    "\\begin{align*}\n",
    "\\frac{\\partial}{\\partial{\\mu_{kj}}} \\log P(\\pmb{X}, \\pmb{Z} | \\pmb{\\theta}) & = \\sum_{i=1}^{N} q^{t+1}(z_{ik} | \\pmb{x_i}) \\frac{\\partial}{\\partial{\\mu_{kj}}} \\left\\{ \\sum^{D}_{d=1} x_{id} \\log \\mu_{kd} + (1 - x_{id}) \\log (1 - \\mu_{kd}) \\right\\} \\\\\n",
    "                                                                            & = \\sum_{i=1}^{N} q^{t+1}(z_{ik} | \\pmb{x_i}) \\frac{\\partial}{\\partial{\\mu_{kj}}} \\left( x_{ij} \\log \\mu_{kj} + (1 - x_{ij}) \\log (1 - \\mu_{kj}) \\right) \\\\\n",
    "                                                                            & = \\sum_{i=1}^{N} q^{t+1}(z_{ik} | \\pmb{x_i}) \\left( \\frac{x_{ij}}{\\mu_{kj}} -  \\frac{1 - x_{ij}}{1 - \\mu_{kj}} \\right) \\\\                      \n",
    "                                                                            & = \\sum_{i=1}^{N}q^{t+1}(z_{ik} | \\pmb{x_i})  \\frac{x_{ij}}{\\mu_{kj}} - \\sum_{i=1}^{N} q^{t+1}(z_{ik} | \\pmb{x_i}) \\frac{(1 - x_{ij})}{(1 - \\mu_{kj})} \\\\                        \n",
    "                                                                            & = \\frac{1}{\\mu_{kj}} \\sum_{i=1}^{N}q^{t+1}(z_{ik} | \\pmb{x_i}) x_{ij} - \\frac{1}{(1 - \\mu_{kj})} \\sum_{i=1}^{N} q^{t+1}(z_{ik} | \\pmb{x_i}) + \\frac{1}{(1 - \\mu_{kj})} \\sum_{i=1}^{N} q^{t+1}(z_{ik}| \\pmb{x_i}) x_{ij} \\\\\n",
    "                                                                            & = \\left(\\frac{1}{\\mu_{kj}} + \\frac{1}{1 - \\mu_{kj}} \\right) \\sum_{i=1}^{N}q^{t+1}(z_{ik}| \\pmb{x_i}) x_{ij} - \\frac{1}{(1 - \\mu_k)} \\sum_{i=1}^{N} q^{t+1}(z_{ik} | \\pmb{x_i}) \\\\\n",
    "                                                                            & = \\frac{1}{\\mu_{kj} (1 - \\mu_{kj})}  \\sum_{i=1}^{N}q^{t+1}(z_{ik} | \\pmb{x_i}) x_{ij} - \\frac{1}{(1 - \\mu_{kj})} \\sum_{i=1}^{N} q^{t+1}(z_{ik} | \\pmb{x_i}) \\\\\n",
    "\\end{align*}\n",
    "$$\n",
    "\n",
    "If we set the derivative to zero:\n",
    "\n",
    "$$\n",
    "\\begin{align*}\n",
    "\\frac{1}{\\mu_{kj} (1 - \\mu_{kj})}  \\sum_{i=1}^{N}q^{t+1}(z_{ik} | \\pmb{x_i}) x_i - \\frac{1}{(1 - \\mu_{kj})} \\sum_{i=1}^{N} q^{t+1}(z_{ik}  | \\pmb{x_i}) & = 0 \\\\\n",
    "\\frac{1}{\\mu_{kj}}  \\sum_{i=1}^{N}q^{t+1}(z_{ik} | \\pmb{x_i}) x_{ij} & = \\sum_{i=1}^{N} q^{t+1}(z_{ik} | \\pmb{x_i}) \\implies \\mu_{kj} = \\frac{\\sum_{i=1}^{N}q^{t+1}(z_{ik} | \\pmb{x_i}) x_{ij}}{\\sum_{i=1}^{N} q^{t+1}(z_{ik} | \\pmb{x_i})} \\\\\n",
    "\\end{align*}\n",
    "$$\n",
    "\n",
    "The former is equivalent, in the vector form, to (as seen in [here](http://fourier.eng.hmc.edu/e176/lectures/ch9/node19.html)):\n",
    "\n",
    "$$\n",
    "\\mu_{k} = \\frac{\\sum_{i=1}^{N}q^{t+1}(z_{ik} = 1 | x_i) \\pmb{x_i}}{\\sum_{i=1}^{N} q^{t+1}(z_{ik} = 1 | x_i)} \\\\\n",
    "$$\n",
    "\n",
    "The derivation of $\\pi_k$ is analogous to the one already shown for [Gaussian Mixture models](2_2_gmm_em_algorithm.ipynb), so there is not need to derive it:\n",
    "\n",
    "$$\n",
    "\\pi_k = \\frac{1}{N} \\sum_{i=1}^N q^{t+1}(z_{ik} = 1 | \\pmb{x_i})\n",
    "$$\n",
    "\n",
    "As it is usually referred in the literature, we can write $N_k$ as:\n",
    "\n",
    "$$\n",
    "N_k = \\sum_{i=1}^N q^{t+1}(z_{ik} = 1 | \\pmb{x_i})\n",
    "$$\n",
    "\n",
    "Then, we finally present the update formulas for $\\pmb{\\mu_k}$, $\\pi_k$ at step $t+1$:\n",
    "\n",
    "$$\n",
    "\\pmb{\\mu_k}^{t+1} = \\frac{1}{N_k} \\sum_{i=1}^{N}q^{t+1}(z_{ik} = 1 | \\pmb{x_i}) \\pmb{x_i} \\\\\n",
    "\\pi_k^{t+1} = \\frac{N_k}{N}\n",
    "$$"
   ]
  },
  {
   "cell_type": "markdown",
   "metadata": {},
   "source": [
    "## Data processing\n",
    "\n",
    "We need to convert grayscale data into binary. To do so, for each pixel $p$, we apply the following function $f$:\n",
    "\n",
    "$$\n",
    "f(p) = \n",
    "\\begin{cases}\n",
    "1 & p \\ge 5 \\\\\n",
    "0 & otherwise\n",
    "\\end{cases}\n",
    "$$"
   ]
  },
  {
   "cell_type": "code",
   "execution_count": 3,
   "metadata": {},
   "outputs": [],
   "source": [
    "def binarize(pixel: np.ndarray) -> bool:\n",
    "    if pixel > 5:\n",
    "        return 1\n",
    "    else:\n",
    "        return 0\n",
    "\n",
    "binarize_fn = np.vectorize(binarize)\n",
    "X = binarize_fn(X)"
   ]
  },
  {
   "cell_type": "markdown",
   "metadata": {},
   "source": [
    "Let's visualize the binarized result."
   ]
  },
  {
   "cell_type": "markdown",
   "metadata": {},
   "source": [
    "Then, we select a subset of the data for our problem. Let's narrow the scope of the problem to 3 different types of clothing: Bag (8), T-Shirt (0), Sneaker (7)."
   ]
  },
  {
   "cell_type": "code",
   "execution_count": 4,
   "metadata": {},
   "outputs": [],
   "source": [
    "n = 15000\n",
    "n_clusters = 5\n",
    "subset_idxs = list(np.where((y == 0) | (y == 7) | (y == 8))[0])\n",
    "idxs = random.sample(subset_idxs, n)\n",
    "\n",
    "X = X[idxs, ...]\n",
    "y = y[idxs, ...]"
   ]
  },
  {
   "cell_type": "markdown",
   "metadata": {},
   "source": [
    "Let's see some binarized examples."
   ]
  },
  {
   "cell_type": "code",
   "execution_count": 5,
   "metadata": {},
   "outputs": [
    {
     "data": {
      "image/png": "[encoded data removed]",
      "text/plain": [
       "<Figure size 1152x360 with 6 Axes>"
      ]
     },
     "metadata": {
      "needs_background": "light"
     },
     "output_type": "display_data"
    }
   ],
   "source": [
    "display_examples(X, y)"
   ]
  },
  {
   "cell_type": "markdown",
   "metadata": {},
   "source": [
    "Note that further work could be done by applying morphological applications. However, leave that as future work."
   ]
  },
  {
   "cell_type": "markdown",
   "metadata": {},
   "source": [
    "## Implementation\n",
    "\n",
    "Let's first implement the E-Step.\n",
    "\n",
    "We observe that the product of the $D$ random variables in $P(\\pmb{x}|\\pmb{\\mu})$ may lead to handling very small numbers, which lead to underflow. Instead, we will be using the exponential of the logarithm:\n",
    "\n",
    "$$\n",
    "\\begin{align*}\n",
    "exp \\log P(z_kj = 1 | \\pmb{x_i}) & = \\exp \\log \\frac{\\pi_k P(\\pmb{x_i}| \\pmb{\\mu_k})}{\\sum_j^K \\pi_j P(\\pmb{x_i}| \\pmb{\\mu_k})} \\\\\n",
    "                                 & = \\exp \\left\\{ \\log \\pi_k + \\log \\prod^{D}_{j=1} \\mu_{kj}^{x_{ij}} (1 - \\mu_{kj})^{(1 - x_{ij})} - \\log \\sum_j^K \\pi_j P(\\pmb{x_i}| \\pmb{\\mu_k}) \\right\\} \\\\\n",
    "                                 & = \\exp \\left\\{ \\log \\pi_k + \\sum^{D}_{j=1} \\left[ x_{ij} \\log \\mu_{kj} + (1 - x_{ij}) \\log (1 - \\mu_{kj}) \\right] - \\log \\sum_j^K \\pi_j P(\\pmb{x_i}| \\pmb{\\mu_k}) \\right\\}\n",
    "\\end{align*}\n",
    "$$\n",
    "\n",
    "The numerator is straightforward to compute but the denominator still may underflow.\n",
    "\n",
    "Note the denominator will be used as the sum over each $\\pmb{\\mu_i}$ for each row $\\pmb{x}$. So we can apply again the exp-log trick within the summation:\n",
    "\n",
    "$$\n",
    "\\begin{align*}\n",
    "\\log \\sum_j^K \\pi_j P(\\pmb{x_i}| \\pmb{\\mu_k}) & = \\log \\sum_j^K \\exp \\log \\pi_j P(\\pmb{x_i}| \\pmb{\\mu_k}) \\\\\n",
    "                                              & = \\log \\sum_j^K \\exp \\left\\{ \\log \\pi_k + \\sum^{D}_{j=1} \\left[ x_{ij} \\log \\mu_{kj} + (1 - x_{ij}) \\log (1 - \\mu_{kj}) \\right] \\right\\}\n",
    "\\end{align*}\n",
    "$$\n",
    "\n",
    "There are built-in functions for computing the log of the sum over exp (see [this](https://numpy.org/doc/stable/reference/generated/numpy.logaddexp.html)) in a stable way."
   ]
  },
  {
   "cell_type": "code",
   "execution_count": 6,
   "metadata": {},
   "outputs": [],
   "source": [
    "def e_step(X: np.ndarray,\n",
    "           mus: np.ndarray,\n",
    "           coefs: np.ndarray) -> np.ndarray:\n",
    "    \n",
    "    log_weighted_p_x_mu = \\\n",
    "        np.log(coefs) + \\\n",
    "        np.dot(X, np.log(mus).T) + \\\n",
    "        np.dot(1 - X, np.log(1 - mus).T)\n",
    "    \n",
    "    log_normalization = np.logaddexp.reduce(log_weighted_p_x_mu,\n",
    "                                            axis=1)[:, None]\n",
    "    \n",
    "    return np.exp(log_weighted_p_x_mu - log_normalization)"
   ]
  },
  {
   "cell_type": "markdown",
   "metadata": {},
   "source": [
    "Now let's implement the updates for the M-Step."
   ]
  },
  {
   "cell_type": "code",
   "execution_count": 7,
   "metadata": {},
   "outputs": [],
   "source": [
    "from typing import Tuple\n",
    "\n",
    "def m_step(X: np.ndarray,\n",
    "           responsibilities: np.ndarray) -> Tuple[np.ndarray, np.ndarray]:\n",
    "    n_k = responsibilities.sum(axis=0)\n",
    "    # Compute center vectors\n",
    "    mus = np.dot(responsibilities.T, X) / n_k[:, None]\n",
    "    # Compute mixing coefficients\n",
    "    coefs = n_k / len(X)\n",
    "    return mus, coefs"
   ]
  },
  {
   "cell_type": "markdown",
   "metadata": {},
   "source": [
    "Implement log likelihood."
   ]
  },
  {
   "cell_type": "code",
   "execution_count": 8,
   "metadata": {},
   "outputs": [],
   "source": [
    "def log_likelihood(X: np.ndarray,\n",
    "                   mus: np.ndarray,\n",
    "                   coefs: np.ndarray) -> float:\n",
    "    log_weighted_p_x_mu = \\\n",
    "        np.log(coefs) + \\\n",
    "        np.dot(X, np.log(mus).T) + \\\n",
    "        np.dot(1 - X, np.log(1 - mus).T)\n",
    "    \n",
    "    return log_weighted_p_x_mu.sum()"
   ]
  },
  {
   "cell_type": "markdown",
   "metadata": {},
   "source": [
    "Initialize optimization process."
   ]
  },
  {
   "cell_type": "code",
   "execution_count": 9,
   "metadata": {},
   "outputs": [],
   "source": [
    "from mixture import sample_coefs\n",
    "\n",
    "def normalize_mus(mus: np.ndarray) -> np.ndarray:\n",
    "    new_mus = mus.copy()\n",
    "    n_clusters = mus.shape[0]\n",
    "    sum_over_clusters = mus.sum(axis=1)\n",
    "    \n",
    "    for k in range(n_clusters):\n",
    "        new_mus[k, ...] = mus[k, ...] / sum_over_clusters[k]\n",
    "    \n",
    "    return new_mus\n",
    "\n",
    "# As in Bishop's Book\n",
    "init_mus = normalize_mus(\n",
    "    np.random.uniform(low=0.25, high=0.75, size=(n_clusters, D))\n",
    ")\n",
    "init_coefs = 1/n_clusters * np.ones(n_clusters)"
   ]
  },
  {
   "cell_type": "markdown",
   "metadata": {},
   "source": [
    "Compute initial likelihood."
   ]
  },
  {
   "cell_type": "code",
   "execution_count": 10,
   "metadata": {},
   "outputs": [
    {
     "name": "stdout",
     "output_type": "stream",
     "text": [
      "Initial likelihood: -188161568.05984232\n"
     ]
    }
   ],
   "source": [
    "init_likelihood = log_likelihood(X, init_mus, init_coefs)\n",
    "print(f'Initial likelihood: {init_likelihood}')"
   ]
  },
  {
   "cell_type": "markdown",
   "metadata": {},
   "source": [
    "Let's perform training."
   ]
  },
  {
   "cell_type": "code",
   "execution_count": 11,
   "metadata": {},
   "outputs": [
    {
     "name": "stdout",
     "output_type": "stream",
     "text": [
      "Initial likelihood: -188161568.05984232\n",
      "[0] Log likelihood: -36504461.89\n",
      "[1] Log likelihood: -77969439.92\n",
      "[2] Log likelihood: -105323061.04\n",
      "[3] Log likelihood: -112627456.54\n",
      "[4] Log likelihood: -115463471.09\n"
     ]
    }
   ],
   "source": [
    "mus = init_mus\n",
    "coefs = init_coefs\n",
    "\n",
    "init_likelihood = log_likelihood(X, mus, coefs)\n",
    "print(f'Initial likelihood: {init_likelihood}')\n",
    "\n",
    "iter_mus = [init_mus]\n",
    "n_iterations = 5\n",
    "\n",
    "for iteration in range(n_iterations):\n",
    "    \n",
    "    # E-step\n",
    "    responsibilities = e_step(X, mus, coefs)\n",
    "\n",
    "    # M-step\n",
    "    mus, coefs = m_step(X, responsibilities)\n",
    "\n",
    "    # Add constant to avoid mus of 0 and\n",
    "    # It may lead to likelihood decreases at some iterations\n",
    "    mus = mus + 1e-30\n",
    "    \n",
    "    # Evaluation step\n",
    "    likelihood = log_likelihood(X=X, mus=mus, coefs=coefs)\n",
    "    \n",
    "    print(f'[{iteration}] Log likelihood: {likelihood:.2f}')\n",
    "    \n",
    "    # Store mus at iteration\n",
    "    iter_mus.append(mus)"
   ]
  },
  {
   "cell_type": "markdown",
   "metadata": {},
   "source": [
    "### Create animation with iteration results"
   ]
  },
  {
   "cell_type": "code",
   "execution_count": 12,
   "metadata": {},
   "outputs": [],
   "source": [
    "import gif\n",
    "import os\n",
    "from typing import Optional\n",
    "\n",
    "@gif.frame\n",
    "def display_images(images: np.ndarray, title: Optional[str]) -> None:\n",
    "    n_images = len(images)\n",
    "    fig, axs = plt.subplots(1, n_images, figsize=(16, 5))\n",
    "    for k in range(n_images):\n",
    "        axs[k].imshow(images[k].reshape(m, m))\n",
    "        axs[k].set_title(f'Cluster {k}')\n",
    "    \n",
    "    if title is not None:\n",
    "        fig.suptitle(title)\n",
    "\n",
    "\n",
    "frames = []\n",
    "for i in range(len(iter_mus)):\n",
    "    title = 'Initial probabilities' if i == 0 else f'Iteration {i}'\n",
    "    frames.append(display_images(iter_mus[i], title))\n",
    "\n",
    "animation_path = os.path.join('media', 'bernoulli_mixture_em.gif')\n",
    "\n",
    "if not os.path.isfile(animation_path):\n",
    "    gif.save(frames, animation_path, duration=500)"
   ]
  },
  {
   "cell_type": "markdown",
   "metadata": {},
   "source": [
    "![SegmentLocal](media/bernoulli_mixture_em.gif )"
   ]
  },
  {
   "cell_type": "markdown",
   "metadata": {},
   "source": [
    "### Create animation with samples"
   ]
  },
  {
   "cell_type": "code",
   "execution_count": 13,
   "metadata": {},
   "outputs": [],
   "source": [
    "from scipy.stats import bernoulli\n",
    "\n",
    "def sample(mus: np.ndarray) -> np.ndarray:\n",
    "    return np.array([bernoulli(p=i).rvs() for i in mus]).reshape(m, m)\n",
    "\n",
    "frames = []\n",
    "for _ in range(50):\n",
    "    samples = [sample(mus[k]) for k in range(n_clusters)]\n",
    "    frames.append(display_images(samples, 'Sampled binary examples'))\n",
    "\n",
    "animation_path = os.path.join('media', 'bernoulli_mixture_em_examples.gif')\n",
    "\n",
    "if not os.path.isfile(animation_path):\n",
    "    gif.save(frames, animation_path, duration=500)"
   ]
  },
  {
   "cell_type": "markdown",
   "metadata": {},
   "source": [
    "![SegmentLocal](media/bernoulli_mixture_em_examples.gif )"
   ]
  },
  {
   "cell_type": "markdown",
   "metadata": {},
   "source": [
    "### Links/Credits\n",
    "\n",
    "- [Chapter 9 from Bishop's book](http://users.isr.ist.utl.pt/~wurmd/Livros/school/Bishop%20-%20Pattern%20Recognition%20And%20Machine%20Learning%20-%20Springer%20%202006.pdf).\n",
    "- [Mixture models lecture from Buffalo University](https://cedar.buffalo.edu/~srihari/CSE574/Chap9/Ch9.4-MixturesofBernoulli.pdf).\n",
    "- [Notes on Bernoulli Mixtures from  Harvey Mudd College](http://fourier.eng.hmc.edu/e176/lectures/ch9/node19.html).\n",
    "- [Using the \"log-sum-exp trick\" post from Stack Exchange](https://stats.stackexchange.com/questions/105602/example-of-how-the-log-sum-exp-trick-works-in-naive-bayes).\n",
    "\n",
    "Used code from this [Kaggle kernel](https://www.kaggle.com/allunia/uncover-target-correlations-with-bernoulli-mixture/notebook) as sanity check."
   ]
  },
  {
   "cell_type": "markdown",
   "metadata": {},
   "source": [
    "### Future work\n",
    "\n",
    "- [ ] Use GMM for any distribution in a generic way\n",
    "- [ ] Apply morphological operations for better binarization"
   ]
  }
 ],
 "metadata": {
  "kernelspec": {
   "display_name": "Python 3",
   "language": "python",
   "name": "python3"
  },
  "language_info": {
   "codemirror_mode": {
    "name": "ipython",
    "version": 3
   },
   "file_extension": ".py",
   "mimetype": "text/x-python",
   "name": "python",
   "nbconvert_exporter": "python",
   "pygments_lexer": "ipython3",
   "version": "3.7.7"
  }
 },
 "nbformat": 4,
 "nbformat_minor": 4
}
