{
 "cells": [
  {
   "cell_type": "markdown",
   "metadata": {},
   "source": [
    "## Mean field approximation example"
   ]
  },
  {
   "cell_type": "markdown",
   "metadata": {},
   "source": [
    "## Problem formalization\n",
    "\n",
    "We want to perform image denoising on binary images. Let's formalize the problem. We have an observed image $\\pmb{Y}$ where each observed pixel $Y_i \\in [-1, +1]$ and original clean binary image is $\\pmb{X}$.\n",
    "\n",
    "Let's see joint distribution:\n",
    "\n",
    "$$\n",
    "P(\\pmb{X}, \\pmb{Y}) = P(\\pmb{Y}|\\pmb{X})P(\\pmb{X})\n",
    "$$\n",
    "\n",
    "Where $P(\\pmb{X})$ is the prior of the original image and $P(\\pmb{Y}|\\pmb{X})$ is the likelihood of the observed corrupted image given original.\n",
    "\n",
    "Note that we will be abusing notation and use $Z$ for all constants.\n",
    "\n",
    "### Prior\n",
    "\n",
    "We want to enforce that neighboring pixels in the clean image have the same value. Thus, we define the prior as:\n",
    "\n",
    "$$\n",
    "\\begin{align*}\n",
    "P(\\pmb{X}) & = \\frac{1}{Z} \\exp\\left[ \\sum_i \\sum_{j \\in neigh(i)} W_{ij} X_i X_j \\right] \\\\\n",
    "           & = \\frac{1}{Z} \\exp\\left[ \\sum_i X_i \\sum_{j \\in neigh(i)} W_{ij} X_j \\right]\n",
    "\\end{align*}\n",
    "$$\n",
    "\n",
    "Where $W_{ij}$ is the coupling strength between neighbouring pixels and $neigh(i)$ is a function that retrieves the neighboring pixels of $X_i$.\n",
    "\n",
    "For a single pixel $X_i$, we have:\n",
    "\n",
    "$$\n",
    "P(X_i) = \\frac{1}{Z} \\exp\\left[ X_i \\sum_{j \\in neigh(i)} W_{ij} X_j \\right] \\\\\n",
    "$$\n",
    "\n",
    "### Likelihood\n",
    "\n",
    "We also want to enforece similarity between the clean and the observed image (which should only differ in the added perturbations). Therefore, we define likelihood:\n",
    "\n",
    "$$\n",
    "P(\\pmb{Y} | \\pmb{X}) = \\prod_i P(Y_i | X_i) = \\prod_i \\mathcal{N}(Y_i|X_i, \\sigma^2)\n",
    "$$\n",
    "\n",
    "Therefore, we assume the perturbations in the image are Gaussian, centered at the original value and with variance $\\sigma^2$.\n",
    "\n",
    "### Optimal value for q\n",
    "\n",
    "In the [previous notebook](0_Variational_Inference_Mean_Field.ipynb), we saw that:\n",
    "\n",
    "$$\n",
    "\\begin{align*}\n",
    "q_k & = \\hat{P}(\\pmb{X}, \\pmb{Y}) \\\\\n",
    "    & = \\frac{1}{Z} \\exp \\left[ \\mathbb{E}_{q_{i \\neq k}} \\log P(\\pmb{Y}, \\pmb{X}) \\right]  \\\\\n",
    "\\end{align*}\n",
    "$$\n",
    "\n",
    "If we replace the joint distribution in this example, we get:\n",
    "\n",
    "$$\n",
    "\\begin{align*}\n",
    "\\log P(\\pmb{Y}, \\pmb{X}) & = \\log P(\\pmb{Y} | \\pmb{X}) P(\\pmb{X}) \\\\\n",
    "                         & = \\log \\left\\{ \\prod_i \\mathcal{N}(Y_i|X_i, \\sigma^2) \\frac{1}{Z_0} \\exp\\left[ \\sum_i X_i \\sum_{j \\in neigh(i)} W_{ij} X_j \\right] \\right\\} \\\\\n",
    "                         & = \\sum_i \\log \\mathcal{N}(Y_i|X_i, \\sigma^2) + const + \\sum_i X_i \\sum_{j \\in neigh(i)} W_{ij} X_j \n",
    "\\end{align*}\n",
    "$$\n",
    "\n",
    "Note that, for a single pixel $i$, we have:\n",
    "\n",
    "$$\n",
    "\\begin{align*}\n",
    "\\log P(Y_i, X_i) & = \\log \\mathcal{N}(Y_i|X_i, \\sigma^2) + X_i \\sum_{j \\in neigh(i)} W_{ij} X_j + const\n",
    "\\end{align*}\n",
    "$$\n",
    "\n",
    "\n",
    "If we want to compute the optimal value for $q_k(X_k)$ (note we are not using abbreviation now), we can write:\n",
    "\n",
    "$$\n",
    "\\begin{align*}\n",
    "q_k(X_k) & = \\frac{1}{Z} \\exp \\left[ \\mathbb{E}_{q_{i \\neq k}} \\log P(Y_k, X_k) \\right]  \\\\\n",
    "         & = \\frac{1}{Z} \\exp \\left\\{ \\mathbb{E}_{q_{i \\neq k}} \\left[ \\log \\mathcal{N}(Y_k|X_k, \\sigma^2) + X_k \\sum_{j \\in neigh(k)} W_{kj} X_j + const \\right] \\right\\} \\\\\n",
    "         & = \\frac{1}{Z} \\exp \\left[ \\log \\mathcal{N}(Y_k|X_k, \\sigma^2) + X_k \\sum_{j \\in neigh(k)} W_{kj} \\mathbb{E}_{q_{j}} \\left[ X_j \\right] \\right] \\\\\n",
    "         & = \\frac{1}{Z} \\exp \\left[ \\log \\mathcal{N}(Y_k|X_k, \\sigma^2) + X_k \\sum_{j \\in neigh(k)} W_{kj} \\mu_j \\right] \\\\\n",
    "         & \\propto \\exp \\left[ \\log \\mathcal{N}(Y_k|X_k, \\sigma^2) + X_k \\sum_{j \\in neigh(k)} W_{kj} \\mu_j \\right]\n",
    "\\end{align*}\\\\\n",
    "$$\n",
    "\n",
    "Note that we need to know the mean value $\\mu_j$ in order to solve for $q_k$. By definition\n",
    "\n",
    "$$\n",
    "\\begin{align*}\n",
    "\\mu_j & = \\mathbb{E}_{q_j} \\left[ X_j \\right] \\\\\n",
    "      & = \\sum_{i \\in \\{-1, +1\\}} i \\ q_j(X_j = i) \\\\\n",
    "      & = q_j(X_j = +1) - q_j(X_j = -1)\n",
    "\\end{align*}\n",
    "$$\n",
    "\n",
    "If we define:\n",
    "\n",
    "- $m_j = \\sum_{i \\in neigh(j)} W_{ji} \\mu_i$\n",
    "- $L_j^{+} = \\log \\mathcal{N}(X_j = +1, \\sigma^2)$\n",
    "- $L_j^{-} = \\log \\mathcal{N}(X_j = -1, \\sigma^2)$\n",
    "\n",
    "We can rewrite $q_j(X_j = +1) = e^{L_k^{+} + m_j}$ \n",
    "\n",
    "By definition:\n",
    "\n",
    "$$\n",
    "\\begin{align*}\n",
    "q_j(X_j = +1) & = \\frac{q_j(X_j = +1)}{q_j(X_j = +1) + q_j(X_j = -1)} \\\\\n",
    "              & = \\frac{e^{L_j^{+} + m_j}}{e^{L_k^{+} + m_j} + e^{L_j^{-} - m_j}} \\\\\n",
    "              & = \\frac{\\frac{1}{e^{L_j^{+} + m_j}}}{\\frac{1}{e^{L_j^{+} + m_j}}} \\frac{e^{L_j^{+} + m_j}}{e^{L_k^{+} + m_j} + e^{L_j^{-} - m_j}} \\\\\n",
    "              & = \\frac{1}{1 + e^{-2 m_j + L_j^{-} - L_j^{+}}} \\\\\n",
    "              & = \\mathrm{sigmoid}(2a_j)\n",
    "\\end{align*}\n",
    "$$\n",
    "\n",
    "Where:\n",
    "\n",
    "$$\n",
    "a_j = m_j + \\frac{1}{2} (L_j^{+} - L_j^{-})\n",
    "$$\n",
    "\n",
    "We can now compute $\\mu_j$:\n",
    "\n",
    "$$\n",
    "\\begin{align*}\n",
    "\\mu_j & = q_j(X_j = +1) - q_j(X_j = -1) \\\\\n",
    "      & = q_j(X_j = +1) - (1 - q_j(X_j = +1)) \\\\\n",
    "      & = sigmoid(2a_j) - (1 - sigmoid(2a_j)) \\\\\n",
    "      & = sigmoid(2a_j) - sigmoid(-2a_j) \\\\\n",
    "      & = \\frac{1}{1 + e^{-2a_j}} - \\frac{1}{1 + e^{2a_j}} \\\\\n",
    "      & = \\frac{e^{a_j}}{e^{a_j}} \\frac{1}{1 + e^{-2a_j}} - \\frac{e^{-a_j}}{e^{-a_j}} \\frac{1}{1 + e^{2a_j}} \\\\\n",
    "      & = \\frac{e^{a_j}}{e^{a_j} + e^{-a_j}} - \\frac{e^{-a_j}}{e^{-a_j} + e^{a_j}} \\\\\n",
    "      & = \\frac{e^{a_j} - e^{-a_j}}{e^{a_j} + e^{-a_j}} \\\\\n",
    "      & = \\mathrm{tanh}(a_j)\n",
    "\\end{align*}\n",
    "$$\n",
    "\n",
    "In step 4, we apply property (easy to demonstrate) that $1 - sigmoid(x) = sigmoid(-x)$.\n",
    "\n",
    "Note that we have come to the update equation for $\\mu_j$, which we can turn into a fixed point algorithm:\n",
    "\n",
    "$$\n",
    "\\begin{align*}\n",
    "\\mu_j^{t} & = \\mathrm{tanh}(a_j)^{t} \\\\\n",
    "      & = \\mathrm{tanh}\\left(m_j^{t} + \\frac{1}{2} (L_j^{+} - L_j^{-})\\right) \\\\\n",
    "      & = \\mathrm{tanh}\\left(\\sum_{i \\in neigh(j)} W_{ji} \\mu_j^{t-1} + \\frac{1}{2} \\log \\ \\frac{\\mathcal{N}(Y_j | X_j = +1, \\sigma^2)}{\\mathcal{N}(Y_j | X_j = -1, \\sigma^2)}\\right) \\\\\n",
    "\\end{align*}\n",
    "$$\n",
    "\n",
    "Murphy recommends in \"Machine Learning: A Probabilistic Perspective\", to use softened updated on the parameter:\n",
    "\n",
    "$$\n",
    "\\mu_j^{t}  = (1 - \\lambda) \\mu_j^{t-1} + \\lambda \\ \\mathrm{tanh}\\left(\\sum_{i \\in neigh(j)} W_{ji} \\mu_j^{t-1} + \\frac{1}{2} \\log \\ \\frac{\\mathcal{N}(Y_j | X_j = +1, \\sigma^2)}{\\mathcal{N}(Y_j | X_j = -1, \\sigma^2)}\\right) \\\\\n",
    "$$\n",
    "\n",
    "Using $\\lambda \\in (0, 1)$."
   ]
  },
  {
   "cell_type": "markdown",
   "metadata": {},
   "source": [
    "## The data\n",
    "\n",
    "We will be using MNIST data."
   ]
  },
  {
   "cell_type": "code",
   "execution_count": 28,
   "metadata": {},
   "outputs": [],
   "source": [
    "from typing import Tuple, List\n",
    "from functools import lru_cache\n",
    "import random\n",
    "\n",
    "import sklearn.datasets\n",
    "import matplotlib.pyplot as plt\n",
    "import numpy as np\n",
    "\n",
    "from scipy.stats import norm\n",
    "from scipy.special import expit as sigmoid\n",
    "\n",
    "# For reproducibility\n",
    "np.random.seed(500)\n",
    "\n",
    "# https://github.com/zalandoresearch/fashion-mnist\n",
    "dataset = sklearn.datasets.fetch_openml(name='mnist_784')\n",
    "X = dataset['data']\n",
    "labels = dataset['target'].astype(int)\n",
    "\n",
    "D = X.shape[-1]\n",
    "m = int(np.sqrt(D))\n",
    "N = len(X)\n",
    "X = X.reshape(N, m, m)"
   ]
  },
  {
   "cell_type": "markdown",
   "metadata": {},
   "source": [
    "Let's see some examples."
   ]
  },
  {
   "cell_type": "code",
   "execution_count": 29,
   "metadata": {},
   "outputs": [
    {
     "data": {
      "image/png": "[encoded data removed]",
      "text/plain": [
       "<Figure size 1152x360 with 6 Axes>"
      ]
     },
     "metadata": {
      "needs_background": "light"
     },
     "output_type": "display_data"
    }
   ],
   "source": [
    "def display_examples(X: np.ndarray,\n",
    "                     labels: np.ndarray,\n",
    "                     n_images: int = 6) -> None:\n",
    "    fig, axs = plt.subplots(1, n_images, figsize=(16, 5))\n",
    "    idxs = random.sample(range(len(X)), n_images)\n",
    "\n",
    "    for i, idx in enumerate(idxs):\n",
    "        axs[i].imshow(X[idx, ...])\n",
    "        axs[i].set_title(labels[idx])\n",
    "\n",
    "display_examples(X, labels)"
   ]
  },
  {
   "cell_type": "markdown",
   "metadata": {},
   "source": [
    "Let's binarize examples."
   ]
  },
  {
   "cell_type": "code",
   "execution_count": 30,
   "metadata": {},
   "outputs": [
    {
     "data": {
      "image/png": "[encoded data removed]",
      "text/plain": [
       "<Figure size 1152x360 with 6 Axes>"
      ]
     },
     "metadata": {
      "needs_background": "light"
     },
     "output_type": "display_data"
    }
   ],
   "source": [
    "thresh = 40  # based on observation\n",
    "\n",
    "X_binary = X.copy()\n",
    "X_binary[X >= thresh] = 1\n",
    "X_binary[X < thresh] = -1\n",
    "\n",
    "display_examples(X_binary, labels)"
   ]
  },
  {
   "cell_type": "markdown",
   "metadata": {},
   "source": [
    "Now let's add some random noise to images."
   ]
  },
  {
   "cell_type": "code",
   "execution_count": 31,
   "metadata": {},
   "outputs": [
    {
     "data": {
      "image/png": "[encoded data removed]",
      "text/plain": [
       "<Figure size 1152x360 with 6 Axes>"
      ]
     },
     "metadata": {
      "needs_background": "light"
     },
     "output_type": "display_data"
    }
   ],
   "source": [
    "true_sigma = 0.5\n",
    "Y = X_binary + np.random.normal(loc=0, scale=true_sigma, size=(m, m))\n",
    "\n",
    "def display_examples(X: np.ndarray,\n",
    "                     labels: np.ndarray,\n",
    "                     n_images: int = 6) -> None:\n",
    "    fig, axs = plt.subplots(1, n_images, figsize=(16, 5))\n",
    "    idxs = random.sample(range(len(X)), n_images)\n",
    "\n",
    "    for i, idx in enumerate(idxs):\n",
    "        axs[i].imshow(X[idx, ...])\n",
    "        axs[i].set_title(labels[idx])\n",
    "\n",
    "display_examples(Y, labels)"
   ]
  },
  {
   "cell_type": "markdown",
   "metadata": {},
   "source": [
    "Now we want to approximate the posterior of the original images (e.g. X) given the noisy images (e.g. Y) assuming the noise is Gaussian, as we derivated in the previous section.\n",
    "\n",
    "Let's define the update function:"
   ]
  },
  {
   "cell_type": "code",
   "execution_count": 34,
   "metadata": {},
   "outputs": [
    {
     "data": {
      "image/png": "[encoded data removed]",
      "text/plain": [
       "<Figure size 432x288 with 1 Axes>"
      ]
     },
     "metadata": {
      "needs_background": "light"
     },
     "output_type": "display_data"
    },
    {
     "data": {
      "image/png": "[encoded data removed]",
      "text/plain": [
       "<Figure size 432x288 with 1 Axes>"
      ]
     },
     "metadata": {
      "needs_background": "light"
     },
     "output_type": "display_data"
    },
    {
     "data": {
      "image/png": "[encoded data removed]",
      "text/plain": [
       "<Figure size 432x288 with 1 Axes>"
      ]
     },
     "metadata": {
      "needs_background": "light"
     },
     "output_type": "display_data"
    },
    {
     "data": {
      "image/png": "[encoded data removed]",
      "text/plain": [
       "<Figure size 432x288 with 1 Axes>"
      ]
     },
     "metadata": {
      "needs_background": "light"
     },
     "output_type": "display_data"
    }
   ],
   "source": [
    "# Select sample\n",
    "sample = Y[0].copy()\n",
    "plt.imshow(sample)\n",
    "plt.show()\n",
    "\n",
    "# Initialize Normal distributions\n",
    "sigma = 2\n",
    "L_plus = norm(loc=1.0, scale=sigma).logpdf(sample)\n",
    "L_minus = norm(loc=-1.0, scale=sigma).logpdf(sample)\n",
    "\n",
    "# Set coupling strengths (uniform)\n",
    "# Preference for same state neighbors (i.e. J > 0)\n",
    "J = 1\n",
    "\n",
    "# # Initialize mus randomly\n",
    "mus = sample.copy()\n",
    "\n",
    "# # Set optimization parameters\n",
    "n_iters = 3\n",
    "lambda_param = 0.5\n",
    "\n",
    "\n",
    "@lru_cache(maxsize=m*m)\n",
    "def neigh(y: int, x: int, height: int, width: int) -> List[Tuple[int, int]]:\n",
    "    neighs = []\n",
    "    diffs = [(-1, 0), (1, 0), (0, 1), (0, -1)]\n",
    "    for dy, dx in diffs:\n",
    "        neigh_y = y + dy\n",
    "        neigh_x = x + dx\n",
    "        if (0 <= y + dy < height) and (0 <= x + dx < width):\n",
    "            neighs.append((neigh_y, neigh_x))\n",
    "    return neighs\n",
    "\n",
    "\n",
    "ms = np.zeros((m, m))\n",
    "a_j = np.zeros((m, m))\n",
    "for iteration in range(n_iters):\n",
    "    for y in range(m):\n",
    "        for x in range(m):\n",
    "            neighbors = neigh(y, x, m, m)\n",
    "            ms[y, x] = np.sum([J * mus[yn, xn] for yn, xn in neighbors])\n",
    "            a_j[y, x] = ms[y, x] + 0.5 * (L_plus[y, x] - L_minus[y, x])\n",
    "            mus[y, x] = (1 - lambda_param) * mus[y, x] + lambda_param * np.tanh(a_j[y, x])\n",
    "    \n",
    "    posterior = sigmoid(2*a_j)\n",
    "    plt.imshow(posterior)\n",
    "    plt.show()"
   ]
  },
  {
   "cell_type": "markdown",
   "metadata": {},
   "source": [
    "## References\n",
    "\n",
    "- Notes from [Princeton course](https://www.cs.princeton.edu/~bee/courses/scribe/lec_11_04_2013.pdf\n",
    ")\n",
    "- Towardsdatascience [post](https://towardsdatascience.com/variational-inference-ising-model-6820d3d13f6a): Variational Inference on with Ising Model\n",
    "- Pages 735-739 from \"Machine Learning: A Probabilistic Perspective\" (Murphy, 2012)"
   ]
  }
 ],
 "metadata": {
  "kernelspec": {
   "display_name": "Python 3",
   "language": "python",
   "name": "python3"
  },
  "language_info": {
   "codemirror_mode": {
    "name": "ipython",
    "version": 3
   },
   "file_extension": ".py",
   "mimetype": "text/x-python",
   "name": "python",
   "nbconvert_exporter": "python",
   "pygments_lexer": "ipython3",
   "version": "3.7.7"
  }
 },
 "nbformat": 4,
 "nbformat_minor": 4
}
